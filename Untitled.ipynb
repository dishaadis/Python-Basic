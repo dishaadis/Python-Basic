{
 "cells": [
  {
   "cell_type": "markdown",
   "id": "8ec4b929-b785-49bb-9f95-cc3737697f1e",
   "metadata": {},
   "source": [
    "# Halo\n",
    "**Halo**\n",
    "Halo\n",
    "<b>Halo ini percobaan</b>"
   ]
  },
  {
   "cell_type": "code",
   "execution_count": 1,
   "id": "5e3c8993-af9f-4f1e-8b47-9b3a22de55b5",
   "metadata": {},
   "outputs": [
    {
     "data": {
      "text/plain": [
       "'Halo'"
      ]
     },
     "execution_count": 1,
     "metadata": {},
     "output_type": "execute_result"
    }
   ],
   "source": [
    "\"Halo\""
   ]
  },
  {
   "cell_type": "code",
   "execution_count": 2,
   "id": "eb92a17a-5f38-4e76-9e71-fca58a92474b",
   "metadata": {},
   "outputs": [
    {
     "data": {
      "text/plain": [
       "12345"
      ]
     },
     "execution_count": 2,
     "metadata": {},
     "output_type": "execute_result"
    }
   ],
   "source": [
    "12345"
   ]
  },
  {
   "cell_type": "code",
   "execution_count": 3,
   "id": "f2a14dbb-8704-4186-a3df-cdc5fe1a850e",
   "metadata": {},
   "outputs": [],
   "source": [
    "#Ini Comment"
   ]
  },
  {
   "cell_type": "code",
   "execution_count": 4,
   "id": "7f806cf7-aeb9-4aed-96f7-bddb8ca11462",
   "metadata": {},
   "outputs": [],
   "source": [
    "nama = \"Radisha Fanni Sianti\""
   ]
  },
  {
   "cell_type": "code",
   "execution_count": 5,
   "id": "a11d3781-457b-4d52-9926-d78ff14fc2b3",
   "metadata": {},
   "outputs": [
    {
     "data": {
      "text/plain": [
       "'Radisha Fanni Sianti'"
      ]
     },
     "execution_count": 5,
     "metadata": {},
     "output_type": "execute_result"
    }
   ],
   "source": [
    "nama"
   ]
  },
  {
   "cell_type": "code",
   "execution_count": 9,
   "id": "bd23b1e4-9913-4bb0-bea4-d0cc2237f29b",
   "metadata": {},
   "outputs": [],
   "source": [
    "namaPanggilan = \"DIsha\"\n",
    "umur = 24\n",
    "IPK = 3.77"
   ]
  },
  {
   "cell_type": "code",
   "execution_count": 10,
   "id": "fabaf8af-1c83-48e3-972d-05ee2b4ca5fb",
   "metadata": {},
   "outputs": [
    {
     "name": "stdout",
     "output_type": "stream",
     "text": [
      "Radisha Fanni Sianti DIsha 24 3.77\n"
     ]
    }
   ],
   "source": [
    "print(nama, namaPanggilan, umur, IPK)"
   ]
  },
  {
   "cell_type": "code",
   "execution_count": 6,
   "id": "8e5b75ae-5969-4a20-b75c-0b1e00100cda",
   "metadata": {},
   "outputs": [
    {
     "name": "stdout",
     "output_type": "stream",
     "text": [
      "[4, 5, 6, 7]\n"
     ]
    }
   ],
   "source": [
    "dataku = [1,2,3,4,5,6,7,8,9,10]\n",
    "print(dataku[3:7])"
   ]
  },
  {
   "cell_type": "code",
   "execution_count": 19,
   "id": "0b50f678-3506-4870-a5a6-643ba66e24d5",
   "metadata": {},
   "outputs": [
    {
     "name": "stdout",
     "output_type": "stream",
     "text": [
      "[5, 6, 7, 8, 9, 10]\n"
     ]
    }
   ],
   "source": [
    "dataku = [1,2,3,4,5,6,7,8,9,10]\n",
    "del dataku[0:4]\n",
    "print(dataku)\n",
    "#del bisa lebih dari 1 value"
   ]
  },
  {
   "cell_type": "code",
   "execution_count": 18,
   "id": "6e6d6f5f-fa29-4ee4-ac22-bee2ed7ad385",
   "metadata": {},
   "outputs": [
    {
     "name": "stdout",
     "output_type": "stream",
     "text": [
      "[1, 2, 3, 5, 6, 7, 8, 9, 10]\n"
     ]
    }
   ],
   "source": [
    "dataku = [1,2,3,4,5,6,7,8,9,10]\n",
    "dataku.remove(4)\n",
    "print(dataku)\n",
    "#remove hanya 1 value saja"
   ]
  },
  {
   "cell_type": "code",
   "execution_count": 28,
   "id": "db1d1a9a-15a8-4a09-87b0-312e8eec94bc",
   "metadata": {},
   "outputs": [
    {
     "name": "stdout",
     "output_type": "stream",
     "text": [
      "['a', 'c', 'd', 'e', 'f', 'g', 'r', 's', 't', 'v', 'w', 'y']\n",
      "['y', 'w', 'v', 't', 's', 'r', 'g', 'f', 'e', 'd', 'c', 'a']\n"
     ]
    }
   ],
   "source": [
    "abjad = [\"a\",\"c\",\"f\",\"w\",\"e\",\"g\",\"y\",\"d\",\"v\",\"r\",\"s\",\"t\"]\n",
    "print(sorted(abjad))\n",
    "print(sorted(abjad, reverse = True))"
   ]
  },
  {
   "cell_type": "code",
   "execution_count": 1,
   "id": "a0704ec7-6d5c-4caa-986c-1b83f8e4e302",
   "metadata": {},
   "outputs": [
    {
     "data": {
      "text/plain": [
       "{1: [1, 2, 3, 4]}"
      ]
     },
     "execution_count": 1,
     "metadata": {},
     "output_type": "execute_result"
    }
   ],
   "source": [
    "dataku = {\n",
    "    1 : [1,2,3,4]\n",
    "}\n",
    "dataku"
   ]
  },
  {
   "cell_type": "code",
   "execution_count": 14,
   "id": "72b04ce7-87ba-4e57-a35b-65f6bb1eb0ac",
   "metadata": {},
   "outputs": [
    {
     "data": {
      "text/plain": [
       "{'umur': [1, 2, 3, 4], 'huruf': ['a', 'b', 'c'], 'angka': [1, 6, 8, 5]}"
      ]
     },
     "execution_count": 14,
     "metadata": {},
     "output_type": "execute_result"
    }
   ],
   "source": [
    "datamu = {\n",
    "    \"umur\" : [1,2,3,4],\n",
    "    \"huruf\" : [\"a\",\"b\",\"c\"],\n",
    "    \"angka\" : [1,6,8,5]\n",
    "}\n",
    "datamu"
   ]
  },
  {
   "cell_type": "code",
   "execution_count": 7,
   "id": "42a55858-6173-49bf-99df-ab0c42361d5b",
   "metadata": {},
   "outputs": [
    {
     "data": {
      "text/plain": [
       "{'Nama': ['Avroz', 'IMLG: Heliportpoe', 'Monoka chan', 'Supreme Leader'],\n",
       " 'Pekerjaan': ['Preman Pinjol',\n",
       "  'Pembawa Lari Tiket',\n",
       "  'Managing Director',\n",
       "  'Pendaki Himalaya'],\n",
       " 'IPK': [3.44, 3.21, 3.99, 4.0]}"
      ]
     },
     "execution_count": 7,
     "metadata": {},
     "output_type": "execute_result"
    }
   ],
   "source": [
    "data_nasabah = {\n",
    "    \"Nama\": [\"Avroz\",\"IMLG: Heliportpoe\", \"Monoka chan\", \"Supreme Leader\"],\n",
    "    \"Pekerjaan\": [\"Preman Pinjol\", \"Pembawa Lari Tiket\", \"Managing Director\", \"Pendaki Himalaya\"],\n",
    "    \"IPK\" : [3.44, 3.21, 3.99, 4.00]\n",
    "}\n",
    "data_nasabah"
   ]
  },
  {
   "cell_type": "code",
   "execution_count": 12,
   "id": "245fc515-a712-44df-8dc3-d1eedac68e61",
   "metadata": {},
   "outputs": [
    {
     "data": {
      "text/plain": [
       "dict_keys([1])"
      ]
     },
     "execution_count": 12,
     "metadata": {},
     "output_type": "execute_result"
    }
   ],
   "source": [
    "dataku.keys()"
   ]
  },
  {
   "cell_type": "code",
   "execution_count": 15,
   "id": "a4c368e4-ae56-4e0b-a6b2-6a710964cc15",
   "metadata": {},
   "outputs": [
    {
     "data": {
      "text/plain": [
       "dict_keys(['umur', 'huruf', 'angka'])"
      ]
     },
     "execution_count": 15,
     "metadata": {},
     "output_type": "execute_result"
    }
   ],
   "source": [
    "datamu.keys()"
   ]
  },
  {
   "cell_type": "code",
   "execution_count": 16,
   "id": "e04fc1bf-2e7d-4e48-95ab-1b5d9d72a863",
   "metadata": {},
   "outputs": [
    {
     "data": {
      "text/plain": [
       "3125"
      ]
     },
     "execution_count": 16,
     "metadata": {},
     "output_type": "execute_result"
    }
   ],
   "source": [
    "5**5"
   ]
  },
  {
   "cell_type": "code",
   "execution_count": 17,
   "id": "081cfa8e-e4c2-45ed-930f-c323195cae4e",
   "metadata": {},
   "outputs": [
    {
     "data": {
      "text/plain": [
       "[5, 6, 7]"
      ]
     },
     "execution_count": 17,
     "metadata": {},
     "output_type": "execute_result"
    }
   ],
   "source": [
    "a = [1,2,3,4,5,6,7,9,10,15,16] \n",
    "a[4:7]"
   ]
  },
  {
   "cell_type": "code",
   "execution_count": 18,
   "id": "241571d6-9890-422b-bdb1-0e05f18167b6",
   "metadata": {},
   "outputs": [
    {
     "data": {
      "text/plain": [
       "True"
      ]
     },
     "execution_count": 18,
     "metadata": {},
     "output_type": "execute_result"
    }
   ],
   "source": [
    "a=2\n",
    "b=3\n",
    "not (b*a) > (b**a)"
   ]
  },
  {
   "cell_type": "code",
   "execution_count": 19,
   "id": "54a64eec-13bc-4fd7-82a9-84dc632420d1",
   "metadata": {},
   "outputs": [
    {
     "data": {
      "text/plain": [
       "False"
      ]
     },
     "execution_count": 19,
     "metadata": {},
     "output_type": "execute_result"
    }
   ],
   "source": [
    "(b*a) > (b**a)"
   ]
  },
  {
   "cell_type": "code",
   "execution_count": 22,
   "id": "47261409-0df0-4d31-b8cb-9bdbfb9f5eb5",
   "metadata": {},
   "outputs": [
    {
     "data": {
      "text/plain": [
       "{'Bakso', 'Sate'}"
      ]
     },
     "execution_count": 22,
     "metadata": {},
     "output_type": "execute_result"
    }
   ],
   "source": [
    "makanan = {\"Bakso\", \"Soto\", \"Sate\", \"Soto\"}\n",
    "makanan.remove(\"Soto\")\n",
    "makanan"
   ]
  },
  {
   "cell_type": "code",
   "execution_count": 24,
   "id": "2da43da5-6175-4136-8f0c-eb475d844920",
   "metadata": {},
   "outputs": [
    {
     "data": {
      "text/plain": [
       "['Surabaya', 'Jakarta', 'Bandung', 'Semarang', 'Medan']"
      ]
     },
     "execution_count": 24,
     "metadata": {},
     "output_type": "execute_result"
    }
   ],
   "source": [
    "kota = ['Surabaya', 'Jakarta', 'Bandung', 'Semarang']\n",
    "kota.append(\"Medan\")\n",
    "kota"
   ]
  },
  {
   "cell_type": "code",
   "execution_count": 25,
   "id": "6c42629e-f713-4e6e-8733-65a412a55002",
   "metadata": {},
   "outputs": [
    {
     "name": "stdout",
     "output_type": "stream",
     "text": [
      "34\n"
     ]
    }
   ],
   "source": [
    "x=\"3\"\n",
    "y=\"4\"\n",
    "print(x+y)"
   ]
  },
  {
   "cell_type": "code",
   "execution_count": 31,
   "id": "d39112af-1a71-430b-b7fd-61237bf2189f",
   "metadata": {},
   "outputs": [
    {
     "data": {
      "text/plain": [
       "['pensil',\n",
       " 'pulpen',\n",
       " 'buku',\n",
       " 'penggaris',\n",
       " 'gunting',\n",
       " 'spidol',\n",
       " 'kotak pensil',\n",
       " 'tas',\n",
       " 'rautan',\n",
       " 'pensil warna',\n",
       " 'buku gambar',\n",
       " 'cat poster',\n",
       " 'kuas']"
      ]
     },
     "execution_count": 31,
     "metadata": {},
     "output_type": "execute_result"
    }
   ],
   "source": [
    "produk_penjualan = [\"pensil\", \"pulpen\", \"buku\", \"penghapus\", \"penggaris\", \n",
    "                    \"gunting\", \"lem\", \"spidol\", \"kotak pensil\", \"tas\", \"map\"]\n",
    "\n",
    "produk_penjualan.append(\"rautan\")\n",
    "produk_penjualan.append(\"pensil warna\")\n",
    "produk_penjualan.append(\"buku gambar\")\n",
    "produk_penjualan.append(\"cat poster\")\n",
    "produk_penjualan.append(\"kuas\")\n",
    "produk_penjualan.remove(\"penghapus\")\n",
    "produk_penjualan.remove(\"lem\")\n",
    "produk_penjualan.remove(\"map\")\n",
    "produk_penjualan\n"
   ]
  },
  {
   "cell_type": "code",
   "execution_count": 35,
   "id": "1d41a1ac-7654-4e1a-81f3-b2d817a1c739",
   "metadata": {},
   "outputs": [
    {
     "data": {
      "text/plain": [
       "['buku',\n",
       " 'buku gambar',\n",
       " 'cat poster',\n",
       " 'gunting',\n",
       " 'kotak pensil',\n",
       " 'kuas',\n",
       " 'penggaris',\n",
       " 'pensil',\n",
       " 'pensil warna',\n",
       " 'pulpen',\n",
       " 'rautan',\n",
       " 'spidol',\n",
       " 'tas']"
      ]
     },
     "execution_count": 35,
     "metadata": {},
     "output_type": "execute_result"
    }
   ],
   "source": [
    "produk_penjualan.sort()\n",
    "produk_penjualan"
   ]
  },
  {
   "cell_type": "code",
   "execution_count": 58,
   "id": "83a2f81e-3775-40cd-aa13-a4a0071bcddb",
   "metadata": {},
   "outputs": [
    {
     "data": {
      "text/plain": [
       "22250000"
      ]
     },
     "execution_count": 58,
     "metadata": {},
     "output_type": "execute_result"
    }
   ],
   "source": [
    "import numpy as np\n",
    "\n",
    "pembelian_ekonomi = np.array([120,100,130,90]) *100000\n",
    "pembelian_eksekutif = np.array([50,35,40,20]) *150000\n",
    "pembelian_ekonomi\n",
    "pembelian_eksekutif\n",
    "np.sum(pembelian_ekonomi) - np.sum(pembelian_eksekutif)"
   ]
  },
  {
   "cell_type": "code",
   "execution_count": 56,
   "id": "9ad3bbc8-23a4-4a18-8ef7-c3f2b77ef9c9",
   "metadata": {},
   "outputs": [
    {
     "data": {
      "text/plain": [
       "1"
      ]
     },
     "execution_count": 56,
     "metadata": {},
     "output_type": "execute_result"
    }
   ],
   "source": [
    "np.argmin(pembelian_ekonomi-pembelian_eksekutif)+1"
   ]
  },
  {
   "cell_type": "code",
   "execution_count": 55,
   "id": "d0226754-44d3-4b18-86ee-4ef51a4fff80",
   "metadata": {},
   "outputs": [
    {
     "data": {
      "text/plain": [
       "1"
      ]
     },
     "execution_count": 55,
     "metadata": {},
     "output_type": "execute_result"
    }
   ],
   "source": [
    "np.argmax(pembelian_eksekutif)+1"
   ]
  },
  {
   "cell_type": "code",
   "execution_count": null,
   "id": "4653c512-0f78-48e5-9df2-ee233a786a4e",
   "metadata": {},
   "outputs": [],
   "source": []
  }
 ],
 "metadata": {
  "kernelspec": {
   "display_name": "Python 3 (ipykernel)",
   "language": "python",
   "name": "python3"
  },
  "language_info": {
   "codemirror_mode": {
    "name": "ipython",
    "version": 3
   },
   "file_extension": ".py",
   "mimetype": "text/x-python",
   "name": "python",
   "nbconvert_exporter": "python",
   "pygments_lexer": "ipython3",
   "version": "3.9.7"
  }
 },
 "nbformat": 4,
 "nbformat_minor": 5
}
