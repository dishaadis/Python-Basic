{
 "cells": [
  {
   "cell_type": "markdown",
   "metadata": {
    "id": "vs_67Ze1WrNW"
   },
   "source": [
    "# Introduction to Python - 2. List & NumPy"
   ]
  },
  {
   "cell_type": "markdown",
   "metadata": {
    "id": "mOSLK3w-T5Zv"
   },
   "source": [
    "# 1. List"
   ]
  },
  {
   "cell_type": "code",
   "execution_count": null,
   "metadata": {},
   "outputs": [],
   "source": [
    "# List kosong\n",
    "list_1 = []\n",
    "\n",
    "# List integer\n",
    "list_nilai = [1,2,3,4,7]\n",
    "\n",
    "# List dengan berbagai tipe data\n",
    "list_campuran = [1, \"Surabaya\", 2.3, True]"
   ]
  },
  {
   "cell_type": "code",
   "execution_count": null,
   "metadata": {},
   "outputs": [],
   "source": [
    "# List profesi dengan multi dimensi\n",
    "list_profesi1 = [\n",
    "                    ['Dokter', 'Perawat', 'Dosen'],\n",
    "                    ['Polisi', 'Dokter', 'Barista'],\n",
    "                    ['Dokter', 'Polisi', 'Koki']\n",
    "                ]\n",
    "\n",
    "# List profesi di dalam list ada list\n",
    "list_profesi2 = [\n",
    "                    ['Dosen', \n",
    "                     'Perawat', \n",
    "                     'Barista', \n",
    "                     ['Barista', 'Perawat']\n",
    "                    ],\n",
    "                    ['Polisi', \n",
    "                     'Koki']\n",
    "                ]"
   ]
  },
  {
   "cell_type": "code",
   "execution_count": null,
   "metadata": {},
   "outputs": [],
   "source": [
    "list_profesi1"
   ]
  },
  {
   "cell_type": "code",
   "execution_count": null,
   "metadata": {},
   "outputs": [],
   "source": [
    "list_profesi1[0]"
   ]
  },
  {
   "cell_type": "code",
   "execution_count": null,
   "metadata": {},
   "outputs": [],
   "source": [
    "list_profesi1[0][1]"
   ]
  },
  {
   "cell_type": "markdown",
   "metadata": {},
   "source": [
    "#### Sistem Indeks List\n",
    "\n",
    "Sistem indexing dimulai dari indeks 0, dan bisa diisi oleh tipe data apapun\n",
    "\n",
    "| Slicing | Makna |\n",
    "| --- | --- |\n",
    "| `[:]` | Mengambil seluruh index, tiada batasan |\n",
    "| `[n:]` | Mengambil dari index ke-n sampai index terakhir | \n",
    "| `[:m]` | Mengambil dari index pertama sampai index ke-m |\n",
    "| `[n:m]` | Mengambil dari index ke-n hingga index ke-m |\n",
    "| `[-1]` | Mengambil index terakhir |\n",
    "| `[:-1]` | Mengambil index dari pertama sampai sebelum terakhir (selain index -1)|\n",
    "| `[-1:]` | Mengambil index dari dari belakang (satu index)|"
   ]
  },
  {
   "cell_type": "markdown",
   "metadata": {},
   "source": [
    "Adapun index dengan dua tanda `:` seperti `[::]`, yaitu:\n",
    "\n",
    "<b> Double Slice Python </b>: \n",
    "`[start:end:step]`\n",
    "\n",
    "| Slicing | Makna |\n",
    "| --- | --- |\n",
    "| `[::]` | Mengambil seluruh index, tiada batasan |\n",
    "| `[n::]` | Mengambil dari index ke-n sampai index terakhir | \n",
    "| `[::o]` | Mengambil dari index pertama dengan lompat setiap o index |\n",
    "| `[n::o]` | Mengambil dari index ke-n dengan lompat setiap o index |\n",
    "| `[n:m:o]` | Mengambil dari index ke-n hingga ke-m, lompat setiap o index |\n",
    "| `[::-1]` | Mengambil seluruh value dengan mengurutkan dari belakang |"
   ]
  },
  {
   "cell_type": "markdown",
   "metadata": {},
   "source": [
    "**Menambahkan elemen pada list**"
   ]
  },
  {
   "cell_type": "code",
   "execution_count": null,
   "metadata": {},
   "outputs": [],
   "source": [
    "profesi = ['Dokter', 'Perawat', 'Dosen']\n",
    "profesi.append('Polisi')\n",
    "profesi"
   ]
  },
  {
   "cell_type": "code",
   "execution_count": null,
   "metadata": {},
   "outputs": [],
   "source": [
    "profesi.insert(2, 'Barista')\n",
    "profesi"
   ]
  },
  {
   "cell_type": "markdown",
   "metadata": {},
   "source": [
    "**Menghapus elemen pada list**"
   ]
  },
  {
   "cell_type": "code",
   "execution_count": null,
   "metadata": {},
   "outputs": [],
   "source": [
    "profesi"
   ]
  },
  {
   "cell_type": "code",
   "execution_count": null,
   "metadata": {},
   "outputs": [],
   "source": [
    "# Menghapus menggunakan del\n",
    "del profesi[2]\n",
    "\n",
    "# Tampilkan setelah dihapus\n",
    "print(profesi)"
   ]
  },
  {
   "cell_type": "code",
   "execution_count": null,
   "metadata": {},
   "outputs": [],
   "source": [
    "# Menghapus menggunakan .remove()\n",
    "\n",
    "profesi.remove('Dosen')\n",
    "profesi"
   ]
  },
  {
   "cell_type": "markdown",
   "metadata": {},
   "source": [
    "## Challenge Time"
   ]
  },
  {
   "cell_type": "markdown",
   "metadata": {},
   "source": [
    "### Nomor 1\n",
    "\n",
    "Diberikan sebuah list \n",
    "`umur_user = [20, 22, 18, 21, 19]`\n",
    "\n",
    "1. Tambahkan item baru pada list umur yaitu umur dari user baru: 23\n",
    "2. Hapus item pada list umur yaitu umur dari user pertama\n"
   ]
  },
  {
   "cell_type": "code",
   "execution_count": null,
   "metadata": {},
   "outputs": [],
   "source": [
    "# Jawab disini\n"
   ]
  },
  {
   "cell_type": "markdown",
   "metadata": {},
   "source": [
    "### Nomor 2\n",
    "Diberikan sebuah list \n",
    "`customer_id = [\"A123\", \"A124\", \"B144\", \"C112\", \"B154\", \"C133\"]`\n",
    "\n",
    "\n",
    "1. Ada customer baru, tambahkan customer id tersebut yaitu \"C135\" ke dalam list customer_id (pada bagian belakang)\n",
    "2. Hapus customer id \"A123\" karena sudah tidak aktif"
   ]
  },
  {
   "cell_type": "code",
   "execution_count": null,
   "metadata": {},
   "outputs": [],
   "source": [
    "# Jawab disini\n"
   ]
  },
  {
   "cell_type": "markdown",
   "metadata": {},
   "source": [
    "# 2. Operasi pada List"
   ]
  },
  {
   "attachments": {},
   "cell_type": "markdown",
   "metadata": {},
   "source": [
    "## A. Operasi List - Satuan dan Multipel"
   ]
  },
  {
   "cell_type": "code",
   "execution_count": null,
   "metadata": {},
   "outputs": [],
   "source": [
    "# Penggabungan 2 List\n",
    "\n",
    "supervised_ml = [\"Logistic Regression\", \"SVM\", \"Random Forest\"]\n",
    "unsupervised_ml = [\"KNN\", \"Clustering\", \"GMM\"]\n",
    "\n",
    "# Combination list 1 + list 2\n",
    "machine_learning = supervised_ml + unsupervised_ml\n",
    "\n",
    "# Result\n",
    "print(machine_learning)"
   ]
  },
  {
   "cell_type": "code",
   "execution_count": null,
   "metadata": {},
   "outputs": [],
   "source": [
    "# List 1\n",
    "user_type = [\"Fraud\",\"Normal\"]\n",
    "\n",
    "# List Operation with *\n",
    "print(user_type * 3)"
   ]
  },
  {
   "attachments": {},
   "cell_type": "markdown",
   "metadata": {},
   "source": [
    "## B. Operasi List - Aritmatika Dasar"
   ]
  },
  {
   "cell_type": "code",
   "execution_count": null,
   "metadata": {},
   "outputs": [],
   "source": [
    "listku = [3,1,2,10,4]"
   ]
  },
  {
   "cell_type": "code",
   "execution_count": null,
   "metadata": {},
   "outputs": [],
   "source": [
    "# Nilai minimal\n",
    "print(min(listku))"
   ]
  },
  {
   "cell_type": "code",
   "execution_count": null,
   "metadata": {},
   "outputs": [],
   "source": [
    "# Nilai maximal\n",
    "print(max(listku))"
   ]
  },
  {
   "cell_type": "code",
   "execution_count": null,
   "metadata": {},
   "outputs": [],
   "source": [
    "# Menjumlahkan semua elemen numerikal\n",
    "print(sum(listku))"
   ]
  },
  {
   "cell_type": "code",
   "execution_count": null,
   "metadata": {},
   "outputs": [],
   "source": [
    "# Banyaknya data dari semua elemen\n",
    "print(len(listku))"
   ]
  },
  {
   "cell_type": "code",
   "execution_count": null,
   "metadata": {},
   "outputs": [],
   "source": [
    "# Mengurutkan dari kecil ke besar\n",
    "print(sorted(listku))"
   ]
  },
  {
   "cell_type": "markdown",
   "metadata": {},
   "source": [
    "# 3. Pengenalan Tuple dan Set"
   ]
  },
  {
   "cell_type": "markdown",
   "metadata": {},
   "source": [
    "## A. Tuple"
   ]
  },
  {
   "cell_type": "code",
   "execution_count": null,
   "metadata": {},
   "outputs": [],
   "source": [
    "bilangan_genap = (2, 4, 6, 8 , 10)\n",
    "\n",
    "print(type(bilangan_genap))\n",
    "print(bilangan_genap)"
   ]
  },
  {
   "cell_type": "code",
   "execution_count": null,
   "metadata": {},
   "outputs": [],
   "source": [
    "%%time\n",
    "\n",
    "a = (1,2,3,4,5,6) * 10000 * 10000"
   ]
  },
  {
   "cell_type": "code",
   "execution_count": null,
   "metadata": {},
   "outputs": [],
   "source": [
    "%%time\n",
    "\n",
    "a = [1,2,3,4,5,6] * 10000 * 10000"
   ]
  },
  {
   "cell_type": "markdown",
   "metadata": {},
   "source": [
    "## B. Set"
   ]
  },
  {
   "cell_type": "code",
   "execution_count": null,
   "metadata": {},
   "outputs": [],
   "source": [
    "bilangan_ganjil = {1,5,3,9,11,7,1,1,1}\n",
    "\n",
    "print(type(bilangan_ganjil))\n",
    "print(bilangan_ganjil)"
   ]
  },
  {
   "cell_type": "code",
   "execution_count": null,
   "metadata": {},
   "outputs": [],
   "source": [
    "negara = [\"belanda\",\"jepang\",\"qatar\",\"belanda\",\"belanda\",\n",
    "          \"jepang\",\"jepang\",\"saudi arabia\",\"argentina\",\"chile\",\n",
    "          \"malaysia\",\"belanda\",\"belanda\",\"jepang\",\"belanda\"]\n",
    "\n",
    "# convert menjadi set\n",
    "negara_2 = set(negara)\n",
    "\n",
    "# kembalikan ke list\n",
    "negara_final = list(negara_2)\n",
    "print(negara_final)"
   ]
  },
  {
   "cell_type": "markdown",
   "metadata": {},
   "source": [
    "# 4. Operasi pada Tuple dan Set"
   ]
  },
  {
   "cell_type": "markdown",
   "metadata": {},
   "source": [
    "## A. Tuple"
   ]
  },
  {
   "cell_type": "code",
   "execution_count": null,
   "metadata": {},
   "outputs": [],
   "source": [
    "data_tuple = (1,2,3,4)"
   ]
  },
  {
   "cell_type": "code",
   "execution_count": null,
   "metadata": {},
   "outputs": [],
   "source": [
    "# Mendapatkan banyaknya objek\n",
    "banyak_data_tuple = len(data_tuple)\n",
    "\n",
    "print(f\"Banyak data tuple: {banyak_data_tuple}\")"
   ]
  },
  {
   "cell_type": "code",
   "execution_count": null,
   "metadata": {},
   "outputs": [],
   "source": [
    "# Menyatukan dua tuple atau lebih\n",
    "tuple2 = data_tuple + (5,6)\n",
    "tuple3 = data_tuple + (5,6) + (7,8)\n",
    "\n",
    "print(f\"Menambah 2 tuple: {tuple2}\")\n",
    "print(f\"Menambah 3 tuple: {tuple3}\")"
   ]
  },
  {
   "cell_type": "code",
   "execution_count": null,
   "metadata": {},
   "outputs": [],
   "source": [
    "# Melakukan repetisi elemen pada tuple\n",
    "repetisi = 2\n",
    "tuple4 = data_tuple * repetisi\n",
    "\n",
    "print(f\"Repetisi tuple sebanyak {repetisi} kali: {tuple4}\")"
   ]
  },
  {
   "cell_type": "code",
   "execution_count": null,
   "metadata": {},
   "outputs": [],
   "source": [
    "# Mengetahui elemen tertentu ada atau tidak didalam tuple\n",
    "angka_yang_mau_dicek = 2\n",
    "logika_tuple = 2 in data_tuple\n",
    "\n",
    "print(f\"Apakah angka {angka_yang_mau_dicek} ada di tuple: {logika_tuple}\")"
   ]
  },
  {
   "cell_type": "code",
   "execution_count": null,
   "metadata": {},
   "outputs": [],
   "source": [
    "# Slicing Tuple\n",
    "sliced_tuple = data_tuple[1:3]\n",
    "\n",
    "print(f\"Tuple yang sudah dipotong: {sliced_tuple}\")"
   ]
  },
  {
   "cell_type": "markdown",
   "metadata": {},
   "source": [
    "## B. Set"
   ]
  },
  {
   "cell_type": "code",
   "execution_count": null,
   "metadata": {},
   "outputs": [],
   "source": [
    "makanan = {\"Bakso\", \"Soto\",\"Mie Ayam\"}\n",
    "\n",
    "# Fungsi .add() menambahkan 1 value maksimal\n",
    "makanan.add(\"Rendang\")\n",
    "print(makanan)"
   ]
  },
  {
   "cell_type": "code",
   "execution_count": null,
   "metadata": {},
   "outputs": [],
   "source": [
    "makanan = {\"Bakso\", \"Soto\",\"Mie Ayam\"}\n",
    "\n",
    "# Fungsi .update() bisa lebih dari 1 value\n",
    "makanan.update([\"Rendang\",\"Pecel Salmon\"])\n",
    "print(makanan)"
   ]
  },
  {
   "cell_type": "markdown",
   "metadata": {},
   "source": [
    "## Challenge Time"
   ]
  },
  {
   "cell_type": "markdown",
   "metadata": {},
   "source": [
    "Diberikan set `nama_user = {'Adi', 'Budi', 'Andi'}`\n",
    "\n",
    "1. Tambahkan item baru pada set nama_user yaitu ‘Anton’\n",
    "2. Hapus item pada set nama_user yaitu 'Budi'\n"
   ]
  },
  {
   "cell_type": "code",
   "execution_count": null,
   "metadata": {},
   "outputs": [],
   "source": [
    "# Jawab disini\n"
   ]
  },
  {
   "cell_type": "markdown",
   "metadata": {
    "id": "27WCsh4lT5Z8"
   },
   "source": [
    "# 5. Pengenalan NumPy"
   ]
  },
  {
   "cell_type": "code",
   "execution_count": null,
   "metadata": {
    "id": "bMrBKA_ZT5Z8"
   },
   "outputs": [],
   "source": [
    "import numpy as np"
   ]
  },
  {
   "cell_type": "code",
   "execution_count": null,
   "metadata": {},
   "outputs": [],
   "source": [
    "listku = [6,4,2,1]\n",
    "\n",
    "type(listku)"
   ]
  },
  {
   "cell_type": "code",
   "execution_count": null,
   "metadata": {},
   "outputs": [],
   "source": [
    "listku = [6,4,2,1]\n",
    "listku2 = np.array(listku)\n",
    "\n",
    "type(listku2)"
   ]
  },
  {
   "cell_type": "code",
   "execution_count": null,
   "metadata": {},
   "outputs": [],
   "source": [
    "genap = (2,4,6,8,10)\n",
    "ganjil = (1,3,5,7,9)\n",
    "\n",
    "bilangan = np.array((genap,ganjil))\n",
    "bilangan"
   ]
  },
  {
   "cell_type": "code",
   "execution_count": null,
   "metadata": {},
   "outputs": [],
   "source": [
    "print(bilangan.shape)\n",
    "print(bilangan.shape[0]) #baris\n",
    "print(bilangan.shape[1]) #kolom"
   ]
  },
  {
   "cell_type": "code",
   "execution_count": null,
   "metadata": {},
   "outputs": [],
   "source": [
    "np.array([1,6,3,6,1,2,6])"
   ]
  },
  {
   "cell_type": "markdown",
   "metadata": {
    "id": "QVkR3HB3T5Z8"
   },
   "source": [
    "#### Membuat array"
   ]
  },
  {
   "cell_type": "code",
   "execution_count": null,
   "metadata": {
    "id": "7Vjq8SWoT5Z9"
   },
   "outputs": [],
   "source": [
    "#membuat array\n",
    "list_nilai_kelas = np.array([[90,89,76,78,92,94,100]])\n",
    "list_nilai_kelas"
   ]
  },
  {
   "cell_type": "code",
   "execution_count": null,
   "metadata": {
    "id": "Vit3niZ-T5Z9"
   },
   "outputs": [],
   "source": [
    "#membuat array 2 dimensi\n",
    "list_nilai_kelas_2d = np.array([ [90,89,76,78,92,94,100], \n",
    "                                 [98,82,73,78,92,94,89] ])\n",
    "list_nilai_kelas_2d"
   ]
  },
  {
   "cell_type": "markdown",
   "metadata": {},
   "source": [
    "## Challenge Time\n",
    "\n",
    "Buatlah array 2 x 5 dari list berikut : \n",
    "\n",
    "```\n",
    "umur \t\t = [ 20, 23, 18, 19, 30]\n",
    "nomor_sepatu  = [ 41, 42, 44, 39, 40]\n",
    "```\n",
    "\n",
    "Simpan array tersebut ke dalam object bernama challenge_array\n",
    "\n",
    "print(challenge_array)"
   ]
  },
  {
   "cell_type": "code",
   "execution_count": null,
   "metadata": {},
   "outputs": [],
   "source": [
    "# Jawab disini\n"
   ]
  },
  {
   "cell_type": "markdown",
   "metadata": {},
   "source": [
    "# 6. Operasi Pada Numpy"
   ]
  },
  {
   "cell_type": "markdown",
   "metadata": {
    "id": "l-fd6_xET5Z9"
   },
   "source": [
    "#### Operasi dengan 1 Array"
   ]
  },
  {
   "cell_type": "code",
   "execution_count": null,
   "metadata": {
    "id": "sx2UOeCKT5Z9"
   },
   "outputs": [],
   "source": [
    "#membuat array\n",
    "list_nilai_kelas = np.array([65,90,89,76,78,92,94,90,100])\n",
    "\n",
    "print(np.sum(list_nilai_kelas))    #menjumlahkan semua nilai pada elemen array\n",
    "print(np.max(list_nilai_kelas))    #mencari nilai tertinggi pada array\n",
    "print(np.min(list_nilai_kelas))    #mencari nilai terkecil pada array\n",
    "print(np.mean(list_nilai_kelas))   #menghitung rataan semua nilai pada elemen array\n",
    "print(np.median(list_nilai_kelas)) #menghitung nilai tengah semua nilai pada elemen array\n",
    "print(np.log10(list_nilai_kelas))  #melakukan log10 pada setiap nilai pada element array\n",
    "print(np.argmax(list_nilai_kelas)) #mengambil index dengan nilai terbesar dalam contoh ini index 7\n",
    "                                   #dengan value 100 menjadi nilai terbesar\n",
    "print(np.argmin(list_nilai_kelas)) #mengambil index dengan nilai terkecil dalam contoh ini index 0\n",
    "                                   #dengan value 65 menjadi nilai terbesar\n",
    "print(np.sort(list_nilai_kelas))   #mengurutkan array dari nilai terkecil ke yang terbesar"
   ]
  },
  {
   "cell_type": "markdown",
   "metadata": {
    "id": "QFCDqA18T5Z_"
   },
   "source": [
    "#### Reshape"
   ]
  },
  {
   "cell_type": "code",
   "execution_count": null,
   "metadata": {
    "id": "XCyjPqV0T5Z_"
   },
   "outputs": [],
   "source": [
    "a = ['Ammar', 'Heru', 'Adit', 'Pras', 'Putri', 'Dara']\n",
    "a = np.array(a)\n",
    "a"
   ]
  },
  {
   "cell_type": "code",
   "execution_count": null,
   "metadata": {
    "id": "9jfkQd8xT5Z_"
   },
   "outputs": [],
   "source": [
    "a = a.reshape((3, 2))\n",
    "a"
   ]
  },
  {
   "cell_type": "markdown",
   "metadata": {
    "id": "fF0Hiw8rT5Z_"
   },
   "source": [
    "#### Operasi array dengan angka"
   ]
  },
  {
   "cell_type": "code",
   "execution_count": null,
   "metadata": {
    "id": "pWc67l0jT5Z_"
   },
   "outputs": [],
   "source": [
    "#membuat array\n",
    "list_nilai = np.array([65,90,89,76,78,92,94,100])\n",
    "\n",
    "print(list_nilai * 3)  #mengalikan semua element pada list nilai dengan 3\n",
    "print(list_nilai / 2)  #membagi semua element pada list nilai dengan 2\n",
    "print(list_nilai + 10) #menjumlahkan semua element pada list nilai dengan 10\n",
    "print(list_nilai - 2)  #mengurangkan semua element pada list nilai dengan 2"
   ]
  },
  {
   "cell_type": "markdown",
   "metadata": {},
   "source": [
    "*Berlaku untuk perhitungan matematika lain seperti pangkat dan lainnya*"
   ]
  },
  {
   "cell_type": "code",
   "execution_count": null,
   "metadata": {},
   "outputs": [],
   "source": [
    "# Pertambahan ini berlaku untuk matrix juga (tidak hanya untuk vektor)\n",
    "\n",
    "matrix = [[1,2],\n",
    "          [3,4]]\n",
    "matrix = np.array(matrix)\n",
    "\n",
    "matrix2 = [[5,5],\n",
    "           [5,5]]\n",
    "matrix2 = np.array(matrix2)\n",
    "\n",
    "print(matrix)\n",
    "print(matrix2)\n",
    "\n",
    "# Pertambahan matrix 1 dan matrix 2\n"
   ]
  },
  {
   "cell_type": "markdown",
   "metadata": {},
   "source": [
    "#### Operasi array dengan array"
   ]
  },
  {
   "cell_type": "code",
   "execution_count": null,
   "metadata": {},
   "outputs": [],
   "source": [
    "#membuat array\n",
    "list_nilai1 = np.array([65,90,89,76,78,92,94,100])\n",
    "list_nilai2 = np.array([1,2,3,4,5,6,7,8])\n",
    "\n",
    "print(list_nilai1 * list_nilai2)  #mengalikan semua element pada list_nilai1 dengan list_nilai2\n",
    "print(list_nilai1 / list_nilai2)  #membagi semua element pada list_nilai1 dengan list_nilai2\n",
    "print(list_nilai1 + list_nilai2) #menjumlahkan semua element pada list_nilai1 dengan list_nilai2\n",
    "print(list_nilai1 - list_nilai2)  #mengurangkan semua element pada list_nilai1 dengan list_nilai2"
   ]
  },
  {
   "cell_type": "code",
   "execution_count": null,
   "metadata": {},
   "outputs": [],
   "source": []
  },
  {
   "cell_type": "markdown",
   "metadata": {},
   "source": [
    "## Challenge Time\n",
    "### Nomor 1"
   ]
  },
  {
   "cell_type": "markdown",
   "metadata": {},
   "source": [
    "No 1. Buatlah array 3 x 3 dari list berikut : \n",
    "\n",
    "\n",
    "```\n",
    "nilai_1\t\t  = [ 80, 87, 91 ]\n",
    "nilai_2\t\t  = [ 77, 65, 75 ]\n",
    "nilai_3\t\t  = [ 59, 60, 47 ]\n",
    "```\n",
    "\n",
    "Simpan array tersebut ke dalam object bernama nilai\n",
    "\n",
    "Dari array bernama nilai tersebut, ubahlah dimensinya menjadi dimensi 1.\n",
    "\n",
    "Kemudian cek apakah mean (rata-rata) nya lebih besar dari pada median (nilai tengah) ?\n",
    "\n",
    "\n",
    "Hint: Gunakan np.mean dan np.median\n",
    "Gunakan kondisional untuk mengecek (boolean)\n"
   ]
  },
  {
   "cell_type": "code",
   "execution_count": null,
   "metadata": {},
   "outputs": [],
   "source": [
    "# Jawab disini\n"
   ]
  },
  {
   "cell_type": "markdown",
   "metadata": {},
   "source": [
    "### Nomor 2\n",
    "\n",
    "Di toko A, dicatat pemasukan dan pengeluaran dari hari ke-1 hingga ke -5 dengan array2 ini:\n",
    "\n",
    "Array item_terjual yang berisi `[3,4,5,2,7]`\n",
    "\n",
    "Array biaya_pengeluaran (sudah termasuk modal) yang berisi `[20000, 22000, 25000, 15000, 46000]`\n",
    "\n",
    "Lalu harga jual per item adalah **10000**\n",
    "\n",
    "Soal: \n",
    "\n",
    "Carilah hari ke berapa toko tersebut mendapatkan keuntungan terbesar?\n",
    "Cari total profit dari kelima hari hasil penjualan toko tersebut!"
   ]
  },
  {
   "cell_type": "code",
   "execution_count": null,
   "metadata": {},
   "outputs": [],
   "source": [
    "# Jawab disini\n"
   ]
  },
  {
   "cell_type": "markdown",
   "metadata": {},
   "source": [
    "# Thank you tetap Semangat Belajar Python"
   ]
  }
 ],
 "metadata": {
  "colab": {
   "name": "Session 15 Python - Rakamin Academy.ipynb",
   "provenance": [
    {
     "file_id": "1B8GeaSB9h5AbskhSza00dftlPUOOHt30",
     "timestamp": 1637512429169
    }
   ]
  },
  "kernelspec": {
   "display_name": "Python 3 (ipykernel)",
   "language": "python",
   "name": "python3"
  },
  "language_info": {
   "codemirror_mode": {
    "name": "ipython",
    "version": 3
   },
   "file_extension": ".py",
   "mimetype": "text/x-python",
   "name": "python",
   "nbconvert_exporter": "python",
   "pygments_lexer": "ipython3",
   "version": "3.9.7"
  }
 },
 "nbformat": 4,
 "nbformat_minor": 4
}
